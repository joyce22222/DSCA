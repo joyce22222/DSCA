{
 "cells": [
  {
   "cell_type": "code",
   "execution_count": 3,
   "id": "39d5dee1",
   "metadata": {},
   "outputs": [],
   "source": [
    "# Import the required module for text \n",
    "# to speech conversion\n",
    "import pyttsx3\n",
    " \n",
    "# init function to get an engine instance for the speech synthesis\n",
    "engine = pyttsx3.init()\n",
    " \n",
    "# say method on the engine that passing input text to be spoken\n",
    "engine.say('study soundarya')\n",
    " \n",
    "# run and wait method, it processes the voice commands.\n",
    "engine.runAndWait()"
   ]
  },
  {
   "cell_type": "code",
   "execution_count": 13,
   "id": "107d9861",
   "metadata": {},
   "outputs": [],
   "source": [
    "voice_id = \"HKEY_LOCAL_MACHINE\\SOFTWARE\\Microsoft\\Speech\\Voices\\Tokens\\TTS_MS_EN-GB_HAZEL_11.0\"\n",
    "\n",
    "# Use female voice\n",
    "converter.setProperty('voice', voice_id)\n",
    "\n",
    "converter.runAndWait()\n"
   ]
  },
  {
   "cell_type": "code",
   "execution_count": null,
   "id": "cdf61f30",
   "metadata": {},
   "outputs": [],
   "source": [
    "voice_id = \"HKEY_LOCAL_MACHINE\\SOFTWARE\\Microsoft\\Speech\\Voices\\Tokens\\TTS_MS_EN-US_DAVID_11.0\"\n",
    "\n",
    "# Use female voice\n",
    "converter.setProperty('voice', voice_id)\n",
    "\n",
    "converter.runAndWait()\n"
   ]
  },
  {
   "cell_type": "code",
   "execution_count": null,
   "id": "0ba32ba2",
   "metadata": {},
   "outputs": [],
   "source": [
    "voice_id = \"HKEY_LOCAL_MACHINE\\SOFTWARE\\Microsoft\\Speech\\Voices\\Tokens\\TTS_MS_EN-US_ZIRA_11.0\"\n",
    "\n",
    "# Use female voice\n",
    "converter.setProperty('voice', voice_id)\n",
    "\n",
    "converter.runAndWait()\n"
   ]
  },
  {
   "cell_type": "code",
   "execution_count": 2,
   "id": "8504950a",
   "metadata": {},
   "outputs": [],
   "source": [
    "# Python program to show\n",
    "# how to convert text to speech\n",
    "import pyttsx3\n",
    "\n",
    "# Initialize the converter\n",
    "converter = pyttsx3.init()\n",
    "\n",
    "# Set properties before adding\n",
    "# Things to say\n",
    "\n",
    "# Sets speed percent\n",
    "# Can be more than 100\n",
    "converter.setProperty('rate', 150)\n",
    "# Set volume 0-1\n",
    "converter.setProperty('volume', 0.7)\n",
    "\n",
    "# Queue the entered text\n",
    "# There will be a pause between\n",
    "# each one like a pause in\n",
    "# a sentence\n",
    "converter.say(\"Hello GeeksforGeeks\")\n",
    "converter.say(\"I'm also a geek\")\n",
    "\n",
    "# Empties the say() queue\n",
    "# Program will not continue\n",
    "# until all speech is done talking\n",
    "converter.runAndWait()\n"
   ]
  },
  {
   "cell_type": "code",
   "execution_count": 5,
   "id": "d34f99d7",
   "metadata": {},
   "outputs": [
    {
     "name": "stdout",
     "output_type": "stream",
     "text": [
      "Voice:\n",
      "ID: HKEY_LOCAL_MACHINE\\SOFTWARE\\Microsoft\\Speech\\Voices\\Tokens\\TTS_MS_EN-US_DAVID_11.0\n",
      "Name: Microsoft David Desktop - English (United States)\n",
      "Age: None\n",
      "Gender: None\n",
      "Languages Known: []\n",
      "Voice:\n",
      "ID: HKEY_LOCAL_MACHINE\\SOFTWARE\\Microsoft\\Speech\\Voices\\Tokens\\TTS_MS_EN-GB_HAZEL_11.0\n",
      "Name: Microsoft Hazel Desktop - English (Great Britain)\n",
      "Age: None\n",
      "Gender: None\n",
      "Languages Known: []\n",
      "Voice:\n",
      "ID: HKEY_LOCAL_MACHINE\\SOFTWARE\\Microsoft\\Speech\\Voices\\Tokens\\TTS_MS_EN-US_ZIRA_11.0\n",
      "Name: Microsoft Zira Desktop - English (United States)\n",
      "Age: None\n",
      "Gender: None\n",
      "Languages Known: []\n"
     ]
    }
   ],
   "source": [
    "voices = converter.getProperty('voices')\n",
    "\n",
    "for voice in voices:\n",
    "\t# to get the info. about various voices in our PC\n",
    "\tprint(\"Voice:\")\n",
    "\tprint(\"ID: %s\" %voice.id)\n",
    "\tprint(\"Name: %s\" %voice.name)\n",
    "\tprint(\"Age: %s\" %voice.age)\n",
    "\tprint(\"Gender: %s\" %voice.gender)\n",
    "\tprint(\"Languages Known: %s\" %voice.languages)\n"
   ]
  },
  {
   "cell_type": "code",
   "execution_count": null,
   "id": "515efd8b",
   "metadata": {},
   "outputs": [],
   "source": []
  }
 ],
 "metadata": {
  "kernelspec": {
   "display_name": "Python 3 (ipykernel)",
   "language": "python",
   "name": "python3"
  },
  "language_info": {
   "codemirror_mode": {
    "name": "ipython",
    "version": 3
   },
   "file_extension": ".py",
   "mimetype": "text/x-python",
   "name": "python",
   "nbconvert_exporter": "python",
   "pygments_lexer": "ipython3",
   "version": "3.10.6"
  }
 },
 "nbformat": 4,
 "nbformat_minor": 5
}
