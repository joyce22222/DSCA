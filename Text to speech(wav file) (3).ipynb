{
 "cells": [
  {
   "cell_type": "code",
   "execution_count": 1,
   "id": "986bfe49",
   "metadata": {},
   "outputs": [],
   "source": [
    "# Import the required module\n",
    "import pyttsx3\n",
    " \n",
    "# Create a string\n",
    "string = \"Python coding is fun\"\n",
    " \n",
    "# Initialize the Pyttsx3 engine\n",
    "engine = pyttsx3.init()\n",
    " \n",
    "# We can use file extension as mp3 and wav, both will work\n",
    "engine.save_to_file(string, 'speech.wav')\n",
    " \n",
    "# Wait until above command is not finished.\n",
    "engine.runAndWait()"
   ]
  },
  {
   "cell_type": "code",
   "execution_count": null,
   "id": "9a6c8304",
   "metadata": {},
   "outputs": [],
   "source": []
  }
 ],
 "metadata": {
  "kernelspec": {
   "display_name": "Python 3 (ipykernel)",
   "language": "python",
   "name": "python3"
  },
  "language_info": {
   "codemirror_mode": {
    "name": "ipython",
    "version": 3
   },
   "file_extension": ".py",
   "mimetype": "text/x-python",
   "name": "python",
   "nbconvert_exporter": "python",
   "pygments_lexer": "ipython3",
   "version": "3.10.6"
  }
 },
 "nbformat": 4,
 "nbformat_minor": 5
}
