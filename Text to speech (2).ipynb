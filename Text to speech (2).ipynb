{
 "cells": [
  {
   "cell_type": "code",
   "execution_count": 1,
   "id": "5680fc95",
   "metadata": {},
   "outputs": [],
   "source": [
    "# Import the required module for text \n",
    "# to speech conversion\n",
    "import pyttsx3\n",
    " \n",
    "# init function to get an engine instance for the speech synthesis\n",
    "engine = pyttsx3.init()\n",
    " \n",
    "# say method on the engine that passing input text to be spoken\n",
    "engine.say('Coding is fun')\n",
    " \n",
    "# run and wait method, it processes the voice commands.\n",
    "engine.runAndWait()"
   ]
  },
  {
   "cell_type": "code",
   "execution_count": null,
   "id": "c81cef58",
   "metadata": {},
   "outputs": [],
   "source": []
  }
 ],
 "metadata": {
  "kernelspec": {
   "display_name": "Python 3 (ipykernel)",
   "language": "python",
   "name": "python3"
  },
  "language_info": {
   "codemirror_mode": {
    "name": "ipython",
    "version": 3
   },
   "file_extension": ".py",
   "mimetype": "text/x-python",
   "name": "python",
   "nbconvert_exporter": "python",
   "pygments_lexer": "ipython3",
   "version": "3.10.6"
  }
 },
 "nbformat": 4,
 "nbformat_minor": 5
}
